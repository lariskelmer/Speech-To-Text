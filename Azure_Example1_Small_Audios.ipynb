{
  "nbformat": 4,
  "nbformat_minor": 0,
  "metadata": {
    "colab": {
      "name": "Azure_Example1_Small-Audios.ipynb",
      "provenance": []
    },
    "kernelspec": {
      "name": "python3",
      "display_name": "Python 3"
    }
  },
  "cells": [
    {
      "cell_type": "code",
      "metadata": {
        "colab": {
          "base_uri": "https://localhost:8080/"
        },
        "id": "B52YWKquh4yC",
        "outputId": "fb55949b-d6bd-428f-bb3a-76520d2e3b0b"
      },
      "source": [
        "pip install azure-cognitiveservices-speech"
      ],
      "execution_count": null,
      "outputs": [
        {
          "output_type": "stream",
          "text": [
            "Collecting azure-cognitiveservices-speech\n",
            "\u001b[?25l  Downloading https://files.pythonhosted.org/packages/2f/da/25e9ad2acbe2c505025ceae837e21406e3ada2aeae0b76109567f2e31f6f/azure_cognitiveservices_speech-1.14.0-cp36-cp36m-manylinux1_x86_64.whl (5.0MB)\n",
            "\u001b[K     |████████████████████████████████| 5.0MB 6.0MB/s \n",
            "\u001b[?25hInstalling collected packages: azure-cognitiveservices-speech\n",
            "Successfully installed azure-cognitiveservices-speech-1.14.0\n"
          ],
          "name": "stdout"
        }
      ]
    },
    {
      "cell_type": "code",
      "metadata": {
        "colab": {
          "base_uri": "https://localhost:8080/",
          "height": 380
        },
        "id": "7f1Rl3OWhu40",
        "outputId": "f4fef372-ff87-4140-cdc4-dd2b5b514f31"
      },
      "source": [
        "import azure.cognitiveservices.speech as speechsdk\n",
        "import time\n",
        "import datetime\n",
        "\n",
        "# Creates an instance of a speech config with specified subscription key and service region.\n",
        "# Replace with your own subscription key and region identifier from here: https://aka.ms/speech/sdkregion\n",
        "speech_key, service_region, language = \"KEY\", \"brazilsouth\", \"pt-BR\"\n",
        "speech_config = speechsdk.SpeechConfig(subscription=speech_key, region=service_region, speech_recognition_language=language)\n",
        "\n",
        "# Creates an audio configuration that points to an audio file.\n",
        "# Replace with your own audio filename.\n",
        "audio_filename = \"sample.wav\"\n",
        "audio_input = speechsdk.audio.AudioConfig(filename=audio_filename)\n",
        "\n",
        "# Creates a recognizer with the given settings\n",
        "speech_config.speech_recognition_language=\"en-US\"\n",
        "speech_config.request_word_level_timestamps()\n",
        "speech_config.enable_dictation()\n",
        "speech_config.output_format = speechsdk.OutputFormat(1)\n",
        "\n",
        "speech_recognizer = speechsdk.SpeechRecognizer(speech_config=speech_config, audio_config=audio_input)\n",
        "\n",
        "#result = speech_recognizer.recognize_once()\n",
        "all_results = []\n",
        "\n",
        "\n",
        "\n",
        "#https://docs.microsoft.com/en-us/python/api/azure-cognitiveservices-speech/azure.cognitiveservices.speech.recognitionresult?view=azure-python\n",
        "def handle_final_result(evt):\n",
        "    all_results.append(evt.result.text) \n",
        "    \n",
        "    \n",
        "done = False\n",
        "\n",
        "def stop_cb(evt):\n",
        "    print('CLOSING on {}'.format(evt))\n",
        "    speech_recognizer.stop_continuous_recognition()\n",
        "    global done\n",
        "    done= True\n",
        "\n",
        "#Appends the recognized text to the all_results variable. \n",
        "speech_recognizer.recognized.connect(handle_final_result) \n",
        "\n",
        "#Connect callbacks to the events fired by the speech recognizer & displays the info/status\n",
        "#Ref:https://docs.microsoft.com/en-us/python/api/azure-cognitiveservices-speech/azure.cognitiveservices.speech.eventsignal?view=azure-python   \n",
        "speech_recognizer.recognizing.connect(lambda evt: print('RECOGNIZING: {}'.format(evt)))\n",
        "speech_recognizer.recognized.connect(lambda evt: print('RECOGNIZED: {}'.format(evt)))\n",
        "speech_recognizer.session_started.connect(lambda evt: print('SESSION STARTED: {}'.format(evt)))\n",
        "speech_recognizer.session_stopped.connect(lambda evt: print('SESSION STOPPED {}'.format(evt)))\n",
        "speech_recognizer.canceled.connect(lambda evt: print('CANCELED {}'.format(evt)))\n",
        "# stop continuous recognition on either session stopped or canceled events\n",
        "speech_recognizer.session_stopped.connect(stop_cb)\n",
        "speech_recognizer.canceled.connect(stop_cb)\n",
        "\n",
        "speech_recognizer.start_continuous_recognition()\n",
        "\n",
        "while not done:\n",
        "    time.sleep(.5)\n",
        "    \n",
        "print(\"Printing all results:\")\n",
        "print(all_results)"
      ],
      "execution_count": null,
      "outputs": [
        {
          "output_type": "error",
          "ename": "ModuleNotFoundError",
          "evalue": "ignored",
          "traceback": [
            "\u001b[0;31m---------------------------------------------------------------------------\u001b[0m",
            "\u001b[0;31mModuleNotFoundError\u001b[0m                       Traceback (most recent call last)",
            "\u001b[0;32m<ipython-input-1-4e860ba016e2>\u001b[0m in \u001b[0;36m<module>\u001b[0;34m()\u001b[0m\n\u001b[0;32m----> 1\u001b[0;31m \u001b[0;32mimport\u001b[0m \u001b[0mazure\u001b[0m\u001b[0;34m.\u001b[0m\u001b[0mcognitiveservices\u001b[0m\u001b[0;34m.\u001b[0m\u001b[0mspeech\u001b[0m \u001b[0;32mas\u001b[0m \u001b[0mspeechsdk\u001b[0m\u001b[0;34m\u001b[0m\u001b[0;34m\u001b[0m\u001b[0m\n\u001b[0m\u001b[1;32m      2\u001b[0m \u001b[0;32mimport\u001b[0m \u001b[0mtime\u001b[0m\u001b[0;34m\u001b[0m\u001b[0;34m\u001b[0m\u001b[0m\n\u001b[1;32m      3\u001b[0m \u001b[0;32mimport\u001b[0m \u001b[0mdatetime\u001b[0m\u001b[0;34m\u001b[0m\u001b[0;34m\u001b[0m\u001b[0m\n\u001b[1;32m      4\u001b[0m \u001b[0;34m\u001b[0m\u001b[0m\n\u001b[1;32m      5\u001b[0m \u001b[0;31m# Creates an instance of a speech config with specified subscription key and service region.\u001b[0m\u001b[0;34m\u001b[0m\u001b[0;34m\u001b[0m\u001b[0;34m\u001b[0m\u001b[0m\n",
            "\u001b[0;31mModuleNotFoundError\u001b[0m: No module named 'azure'",
            "",
            "\u001b[0;31m---------------------------------------------------------------------------\u001b[0;32m\nNOTE: If your import is failing due to a missing package, you can\nmanually install dependencies using either !pip or !apt.\n\nTo view examples of installing some common dependencies, click the\n\"Open Examples\" button below.\n\u001b[0;31m---------------------------------------------------------------------------\u001b[0m\n"
          ]
        }
      ]
    }
  ]
}